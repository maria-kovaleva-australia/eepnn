{
 "cells": [
  {
   "cell_type": "markdown",
   "id": "2a6e8d79-f77b-41fd-b843-bf2f1b2c3536",
   "metadata": {},
   "source": [
    "# Clone repository and install requirements"
   ]
  },
  {
   "cell_type": "code",
   "execution_count": 5,
   "id": "7b86d27b-83cb-4cf7-90d9-dfea995db8a1",
   "metadata": {},
   "outputs": [
    {
     "name": "stdout",
     "output_type": "stream",
     "text": [
      "/bin/bash: line 1: git: command not found\n",
      "/bin/bash: line 1: cd: eepnn: No such file or directory\n",
      "/bin/bash: line 1: cd: eepnn/Problematic_Region_Detector_Files: No such file or directory\n"
     ]
    }
   ],
   "source": [
    "! git clone https://github.com/maria-kovaleva-australia/eepnn.git\n",
    "! cd eepnn && git checkout dev2\n",
    "! cd eepnn/Problematic_Region_Detector_Files && pip install -r requirements.txt"
   ]
  },
  {
   "cell_type": "code",
   "execution_count": null,
   "id": "8015a5c4-235e-4234-9c90-29c83bbd7010",
   "metadata": {},
   "outputs": [],
   "source": [
    "# uncomment below code if wanting to link to google drive\n",
    "# from google.colab import drive\n",
    "# drive.mount('/content/drive')"
   ]
  },
  {
   "cell_type": "markdown",
   "id": "b9f8c2cc-b706-42a7-a93c-7bab1149ca1f",
   "metadata": {},
   "source": [
    "# Detect problematic regions of interest"
   ]
  },
  {
   "cell_type": "markdown",
   "id": "f6a71b64-d0e9-472c-8d4b-5531ee145412",
   "metadata": {},
   "source": [
    "### Command-Line Arguments:\n",
    "\n",
    "| Argument                     | Description |\n",
    "|------------------------------|-------------|\n",
    "| `--fov 30`                   | Sets the **Field of View (FoV)** to 30 degrees. This value can be modified within the range **[0, 90]**. |\n",
    "| `--FEKO_SOURCE_PATH ./`      | Specifies the **source path** where FEKO simulation files are located (default: current directory `./`). |\n",
    "| `--SAVE_PATH eepnn`          | Defines the directory (`eepnn`) where output results will be saved. |\n",
    "| `--problematic_threshold -3` | Sets the **problematic threshold** to -3 dB for detecting abnormal regions. This value must be **≤ 0**. |\n",
    "| `--ant_start 1`              | Specifies the **starting antenna index** (first antenna is **1**). |\n",
    "| `--ant_end 10`               | Specifies the **ending antenna index** (processes antennas from **1 to 10**). |"
   ]
  },
  {
   "cell_type": "code",
   "execution_count": null,
   "id": "71e657e7-4476-4412-b58a-3b46185a83a8",
   "metadata": {},
   "outputs": [],
   "source": [
    "! python3 eepnn/Problematic_Region_Detector_Files/codes/detect.py --fov 30 --FEKO_SOURCE_PATH ./ --SAVE_PATH eepnn --problematic_threshold -3 --ant_start 1 --ant_end 10"
   ]
  }
 ],
 "metadata": {
  "kernelspec": {
   "display_name": "Python 3 (conda)",
   "language": "python",
   "name": "python3"
  },
  "language_info": {
   "codemirror_mode": {
    "name": "ipython",
    "version": 3
   },
   "file_extension": ".py",
   "mimetype": "text/x-python",
   "name": "python",
   "nbconvert_exporter": "python",
   "pygments_lexer": "ipython3",
   "version": "3.12.5"
  }
 },
 "nbformat": 4,
 "nbformat_minor": 5
}
