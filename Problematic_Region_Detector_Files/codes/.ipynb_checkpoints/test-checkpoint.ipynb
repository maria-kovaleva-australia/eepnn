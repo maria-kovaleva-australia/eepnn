{
 "cells": [
  {
   "cell_type": "code",
   "execution_count": 10,
   "id": "b082234f-0027-4449-ae9d-2a7ceed9d18f",
   "metadata": {},
   "outputs": [
    {
     "name": "stdout",
     "output_type": "stream",
     "text": [
      "/data/curtin_eepnn/eepnn/Problematic_Region_Detector_Files/codes\n"
     ]
    }
   ],
   "source": [
    "!pwd"
   ]
  },
  {
   "cell_type": "code",
   "execution_count": null,
   "id": "e359c7ac-c7e6-4115-8051-eefd15dd00be",
   "metadata": {},
   "outputs": [],
   "source": [
    "! python3 detect.py --fov 30 --FEKO_SOURCE_PATH '/data/curtin_eepnn/P_vogel_FEKO/rawdata/for git testing' \\\n",
    "--SAVE_PATH '/data/curtin_eepnn/eepnn/results' \\\n",
    "--problematic_threshold -3 \\\n",
    "--ant_start 256 \\\n",
    "--ant_end 256"
   ]
  },
  {
   "cell_type": "code",
   "execution_count": 16,
   "id": "463208bb-a0ad-4816-bca0-37fcc98fcfa5",
   "metadata": {},
   "outputs": [],
   "source": [
    "! rm -rf /data/curtin_eepnn/eepnn/result/plots"
   ]
  },
  {
   "cell_type": "code",
   "execution_count": 10,
   "id": "54d6a92e-b304-42bf-8435-821d132f7b94",
   "metadata": {},
   "outputs": [
    {
     "name": "stdout",
     "output_type": "stream",
     "text": [
      "Calculating EEPs in logarithmic scale...\n",
      "\n",
      "    -. Number of ϕ angles: 721, Number of θ angles: 181, Total antennas: 256\n",
      "    -. Normalised power calculated for 256 antennas\n",
      "    -. Saved e_norm to /data/curtin_eepnn/eepnn/result/e_norms\n",
      "\n",
      "Plotting EEPs in polar coordinate and uv plane...\n",
      "\n",
      "    -. Plots include 2 antenna(s), covering antennas 100 to 101.\n",
      "    -. Saved plots to /data/curtin_eepnn/eepnn/result/plots\n",
      "\n",
      "Detecting problematic regions <= -6.0 in the FOV 45°\n",
      "    -. Result included 2 antenna/antennas, including antenna 100 to 101\n",
      "    -. Saved result to /data/curtin_eepnn/eepnn/result/problematic_regions-6.0_fov45_1738908996.9189322.csv\n",
      "\n",
      "Total running time: 0.29 minutes\n"
     ]
    }
   ],
   "source": [
    "! python3 detect.py --fov 45 --FEKO_SOURCE_PATH '/data/curtin_eepnn/P_vogel_FEKO/rawdata/for git testing' \\\n",
    "--SAVE_PATH '/data/curtin_eepnn/eepnn' \\\n",
    "--problematic_threshold -6 \\\n",
    "--ant_start 100 \\\n",
    "--ant_end 101"
   ]
  },
  {
   "cell_type": "markdown",
   "id": "bf44ff49-5763-41b6-b9dc-b946fddb05eb",
   "metadata": {},
   "source": [
    "## split function"
   ]
  },
  {
   "cell_type": "code",
   "execution_count": 8,
   "id": "b227ebb4-844f-4238-add3-25cf4e061861",
   "metadata": {},
   "outputs": [
    {
     "name": "stdout",
     "output_type": "stream",
     "text": [
      "Calculating EEPs in logarithmic scale...\n",
      "\n",
      "    -. Number of ϕ angles: 721, Number of θ angles: 181, Total antennas: 256\n",
      "    -. Normalised power calculated for 256 antennas\n",
      "    -. Saved e_norm to /data/curtin_eepnn/eepnn/result/e_norms\n",
      "    -. Adjusted ant_end from 258 to 256\n",
      "    -. Total time spent for this task: 0.45 minutes.\n",
      "\n",
      "Plotting EEPs in polar coordinate and uv plane...\n",
      "\n",
      "    -. Plots include 57 antenna(s), covering antennas 200 to 256.\n",
      "    -. Saved plots to /data/curtin_eepnn/eepnn/result/plots\n",
      "    -. Total time spent for this task: 1.03 minutes.\n",
      "\n",
      "Detecting problematic regions <= -0.5 in the FOV 45°\n",
      "    -. Result included 57 antenna/antennas, including antenna 200 to 256\n",
      "    -. Saved result to /data/curtin_eepnn/eepnn/result/problematic_regions-0.5_fov45_1739342407.0863051.csv\n",
      "    -. Total time spent for this task: 0.77 minutes.\n"
     ]
    }
   ],
   "source": [
    "! python3 detect.py --fov 45 --FEKO_SOURCE_PATH '/data/curtin_eepnn/P_vogel_FEKO/rawdata/for git testing' \\\n",
    "--SAVE_PATH '/data/curtin_eepnn/eepnn' \\\n",
    "--problematic_threshold -0.5 \\\n",
    "--ant_start 200 \\\n",
    "--ant_end 258 \\\n",
    "--compute_enorms"
   ]
  },
  {
   "cell_type": "code",
   "execution_count": null,
   "id": "30abe0e6-f20b-4941-8707-155b7a0f029e",
   "metadata": {},
   "outputs": [],
   "source": []
  }
 ],
 "metadata": {
  "kernelspec": {
   "display_name": "Python 3 (conda)",
   "language": "python",
   "name": "python3"
  },
  "language_info": {
   "codemirror_mode": {
    "name": "ipython",
    "version": 3
   },
   "file_extension": ".py",
   "mimetype": "text/x-python",
   "name": "python",
   "nbconvert_exporter": "python",
   "pygments_lexer": "ipython3",
   "version": "3.12.5"
  }
 },
 "nbformat": 4,
 "nbformat_minor": 5
}
