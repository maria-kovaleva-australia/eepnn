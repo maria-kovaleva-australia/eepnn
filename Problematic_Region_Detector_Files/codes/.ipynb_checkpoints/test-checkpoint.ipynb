{
 "cells": [
  {
   "cell_type": "code",
   "execution_count": 10,
   "id": "b082234f-0027-4449-ae9d-2a7ceed9d18f",
   "metadata": {},
   "outputs": [
    {
     "name": "stdout",
     "output_type": "stream",
     "text": [
      "/data/curtin_eepnn/eepnn/Problematic_Region_Detector_Files/codes\n"
     ]
    }
   ],
   "source": [
    "!pwd"
   ]
  },
  {
   "cell_type": "code",
   "execution_count": null,
   "id": "e359c7ac-c7e6-4115-8051-eefd15dd00be",
   "metadata": {},
   "outputs": [],
   "source": [
    "! python3 detect.py --fov 30 --FEKO_SOURCE_PATH '/data/curtin_eepnn/P_vogel_FEKO/rawdata/for git testing' \\\n",
    "--SAVE_PATH '/data/curtin_eepnn/eepnn/results' \\\n",
    "--problematic_threshold -3 \\\n",
    "--ant_start 256 \\\n",
    "--ant_end 256"
   ]
  },
  {
   "cell_type": "code",
   "execution_count": 16,
   "id": "463208bb-a0ad-4816-bca0-37fcc98fcfa5",
   "metadata": {},
   "outputs": [],
   "source": [
    "! rm -rf /data/curtin_eepnn/eepnn/result/plots"
   ]
  },
  {
   "cell_type": "code",
   "execution_count": 14,
   "id": "54d6a92e-b304-42bf-8435-821d132f7b94",
   "metadata": {},
   "outputs": [
    {
     "name": "stdout",
     "output_type": "stream",
     "text": [
      "Calculating EEPs in logarithmic scale...\n",
      "\n",
      "    -. Number of ϕ angles: 721, Number of θ angles: 181, Total antennas: 256\n",
      "    -. Normalised power calculated for 256 antennas\n",
      "    -. Saved e_norm to /data/curtin_eepnn/eepnn/result/e_norms\n",
      "\n",
      "Plotting EEPs in polar coordinate and uv plane...\n",
      "\n",
      "    -. Plots include 1 antenna(s), covering antennas 10 to 10.\n",
      "    -. Saved plots to /data/curtin_eepnn/eepnn/result/plots\n",
      "\n",
      "Detecting problematic regions <= -1.5 in the FOV 45°\n",
      "    -. Result included 1 antenna/antennas, including antenna 10 to 10\n",
      "    -. Saved result to /data/curtin_eepnn/eepnn/result/problematic_regions-1.5_fov45_1738901421.9991534.csv\n",
      "\n",
      "Total running time: 0.61 minutes\n"
     ]
    }
   ],
   "source": [
    "! python3 detect.py --fov 45 --FEKO_SOURCE_PATH '/data/curtin_eepnn/P_vogel_FEKO/rawdata/for git testing' \\\n",
    "--SAVE_PATH '/data/curtin_eepnn/eepnn' \\\n",
    "--problematic_threshold -1.5 \\\n",
    "--ant_start 10 \\\n",
    "--ant_end 10"
   ]
  },
  {
   "cell_type": "code",
   "execution_count": null,
   "id": "4c61f057-79c3-4060-85bf-12796435729e",
   "metadata": {},
   "outputs": [],
   "source": [
    "import functions as F\n",
    "from importlib import reload\n",
    "reload(F)\n",
    "\n",
    "F.plot_2d_contour('100MHz_Xpol_enorm.mat', 90, output_path=None, enorm_folder= '/data/curtin_eepnn/eepnn/result/e_norms',problematic_threshold=-1)"
   ]
  },
  {
   "cell_type": "code",
   "execution_count": 12,
   "id": "3edaab3c-2a41-4028-909b-42649da3631b",
   "metadata": {},
   "outputs": [
    {
     "name": "stdout",
     "output_type": "stream",
     "text": [
      "/data/curtin_eepnn/eepnn/Problematic_Region_Detector_Files/codes\n"
     ]
    }
   ],
   "source": [
    "! pwd"
   ]
  },
  {
   "cell_type": "code",
   "execution_count": null,
   "id": "b227ebb4-844f-4238-add3-25cf4e061861",
   "metadata": {},
   "outputs": [],
   "source": []
  }
 ],
 "metadata": {
  "kernelspec": {
   "display_name": "Python 3 (conda)",
   "language": "python",
   "name": "python3"
  },
  "language_info": {
   "codemirror_mode": {
    "name": "ipython",
    "version": 3
   },
   "file_extension": ".py",
   "mimetype": "text/x-python",
   "name": "python",
   "nbconvert_exporter": "python",
   "pygments_lexer": "ipython3",
   "version": "3.12.5"
  }
 },
 "nbformat": 4,
 "nbformat_minor": 5
}
