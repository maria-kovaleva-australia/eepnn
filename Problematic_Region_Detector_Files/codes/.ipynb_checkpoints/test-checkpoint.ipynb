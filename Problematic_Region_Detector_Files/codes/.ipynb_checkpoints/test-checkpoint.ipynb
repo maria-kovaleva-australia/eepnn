{
 "cells": [
  {
   "cell_type": "code",
   "execution_count": 10,
   "id": "b082234f-0027-4449-ae9d-2a7ceed9d18f",
   "metadata": {},
   "outputs": [
    {
     "name": "stdout",
     "output_type": "stream",
     "text": [
      "/data/curtin_eepnn/eepnn/Problematic_Region_Detector_Files/codes\n"
     ]
    }
   ],
   "source": [
    "!pwd"
   ]
  },
  {
   "cell_type": "code",
   "execution_count": null,
   "id": "e359c7ac-c7e6-4115-8051-eefd15dd00be",
   "metadata": {},
   "outputs": [],
   "source": [
    "! python3 detect.py --fov 30 --FEKO_SOURCE_PATH '/data/curtin_eepnn/P_vogel_FEKO/rawdata/for git testing' \\\n",
    "--SAVE_PATH '/data/curtin_eepnn/eepnn/results' \\\n",
    "--problematic_threshold -3 \\\n",
    "--ant_start 256 \\\n",
    "--ant_end 256"
   ]
  },
  {
   "cell_type": "code",
   "execution_count": 16,
   "id": "463208bb-a0ad-4816-bca0-37fcc98fcfa5",
   "metadata": {},
   "outputs": [],
   "source": [
    "! rm -rf /data/curtin_eepnn/eepnn/result/plots"
   ]
  },
  {
   "cell_type": "code",
   "execution_count": 10,
   "id": "54d6a92e-b304-42bf-8435-821d132f7b94",
   "metadata": {},
   "outputs": [
    {
     "name": "stdout",
     "output_type": "stream",
     "text": [
      "Calculating EEPs in logarithmic scale...\n",
      "\n",
      "    -. Number of ϕ angles: 721, Number of θ angles: 181, Total antennas: 256\n",
      "    -. Normalised power calculated for 256 antennas\n",
      "    -. Saved e_norm to /data/curtin_eepnn/eepnn/result/e_norms\n",
      "\n",
      "Plotting EEPs in polar coordinate and uv plane...\n",
      "\n",
      "    -. Plots include 2 antenna(s), covering antennas 100 to 101.\n",
      "    -. Saved plots to /data/curtin_eepnn/eepnn/result/plots\n",
      "\n",
      "Detecting problematic regions <= -6.0 in the FOV 45°\n",
      "    -. Result included 2 antenna/antennas, including antenna 100 to 101\n",
      "    -. Saved result to /data/curtin_eepnn/eepnn/result/problematic_regions-6.0_fov45_1738908996.9189322.csv\n",
      "\n",
      "Total running time: 0.29 minutes\n"
     ]
    }
   ],
   "source": [
    "! python3 detect.py --fov 45 --FEKO_SOURCE_PATH '/data/curtin_eepnn/P_vogel_FEKO/rawdata/for git testing' \\\n",
    "--SAVE_PATH '/data/curtin_eepnn/eepnn' \\\n",
    "--problematic_threshold -6 \\\n",
    "--ant_start 100 \\\n",
    "--ant_end 101"
   ]
  },
  {
   "cell_type": "markdown",
   "id": "bf44ff49-5763-41b6-b9dc-b946fddb05eb",
   "metadata": {},
   "source": [
    "## split function"
   ]
  },
  {
   "cell_type": "code",
   "execution_count": 40,
   "id": "f3ec971a-2c6e-416d-a4a9-cb3917bcae4d",
   "metadata": {},
   "outputs": [
    {
     "name": "stdout",
     "output_type": "stream",
     "text": [
      "Collecting tqdm\n",
      "  Downloading tqdm-4.67.1-py3-none-any.whl.metadata (57 kB)\n",
      "Downloading tqdm-4.67.1-py3-none-any.whl (78 kB)\n",
      "Installing collected packages: tqdm\n",
      "Successfully installed tqdm-4.67.1\n"
     ]
    }
   ],
   "source": [
    "! pip install tqdm"
   ]
  },
  {
   "cell_type": "code",
   "execution_count": 56,
   "id": "b227ebb4-844f-4238-add3-25cf4e061861",
   "metadata": {},
   "outputs": [
    {
     "name": "stdout",
     "output_type": "stream",
     "text": [
      "\n",
      "Plotting EEPs in polar coordinate and uv plane...\n",
      "\n",
      "    -. Progress: 100%|████████████████████████| 18/18 [00:12<00:00,  1.39file/s]\n",
      "    -. Plots include 1 antenna(s), covering antennas 1 to 1.\n",
      "    -. Saved plots to /data/curtin_eepnn/eepnn/result/plots\n",
      "    -. Total time spent for this task: 0.22 minutes.\n",
      "\n",
      "Detecting problematic regions <= -3.0 in the FOV 45°\n",
      "    -. Result included 1 antenna/antennas, including antenna 1 to 1\n",
      "    -. Progress: 100%|████████████████████████| 18/18 [00:02<00:00,  6.24file/s]\n",
      "    -. Saved result to /data/curtin_eepnn/eepnn/result/problematic_regions-3.0_fov45_1739359023.6306233.csv\n",
      "    -. Total time spent for this task: 0.05 minutes.\n"
     ]
    }
   ],
   "source": [
    "! python3 detect.py \\\n",
    "--fov 45 \\\n",
    "--FEKO_SOURCE_PATH '/data/curtin_eepnn/P_vogel_FEKO/rawdata/FEKO' \\\n",
    "--SAVE_PATH '/data/curtin_eepnn/eepnn' \\\n",
    "--problematic_threshold -3 \\\n",
    "--ant_start 1\\\n",
    "--ant_end 1 \\\n",
    "--compute_enorms 0 \\\n",
    "--plot_EEPs 1"
   ]
  },
  {
   "cell_type": "code",
   "execution_count": 24,
   "id": "2bd9b5c5-2f4b-4466-b547-1d4acaee42f6",
   "metadata": {},
   "outputs": [],
   "source": [
    "from scipy.io import loadmat, savemat\n",
    "ori = loadmat(\"/data/curtin_eepnn/eepnn/result/e_norms/100MHz_Ypol_enorm.mat\")\n",
    "t = loadmat(\"/data/curtin_eepnn/eepnn/result/e_norms/100MHz_Ypol_enorm_t.mat\")   "
   ]
  },
  {
   "cell_type": "code",
   "execution_count": 48,
   "id": "41137d8c-9ef2-4dff-9b31-fa71f34c6356",
   "metadata": {},
   "outputs": [],
   "source": [
    "# ! rm -rf /data/curtin_eepnn/eepnn/result/e_norms"
   ]
  },
  {
   "cell_type": "code",
   "execution_count": null,
   "id": "56a3b33d-7411-4d0f-8087-ca348346a5ea",
   "metadata": {},
   "outputs": [],
   "source": []
  }
 ],
 "metadata": {
  "kernelspec": {
   "display_name": "Python 3 (conda)",
   "language": "python",
   "name": "python3"
  },
  "language_info": {
   "codemirror_mode": {
    "name": "ipython",
    "version": 3
   },
   "file_extension": ".py",
   "mimetype": "text/x-python",
   "name": "python",
   "nbconvert_exporter": "python",
   "pygments_lexer": "ipython3",
   "version": "3.12.5"
  }
 },
 "nbformat": 4,
 "nbformat_minor": 5
}
