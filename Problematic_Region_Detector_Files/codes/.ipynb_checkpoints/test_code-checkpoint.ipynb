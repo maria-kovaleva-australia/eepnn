{
 "cells": [
  {
   "cell_type": "code",
   "execution_count": 1,
   "id": "b082234f-0027-4449-ae9d-2a7ceed9d18f",
   "metadata": {},
   "outputs": [
    {
     "name": "stdout",
     "output_type": "stream",
     "text": [
      "/data/curtin_eepnn/eepnn/Problematic_Region_Detector_Files/codes\n"
     ]
    }
   ],
   "source": [
    "!pwd"
   ]
  },
  {
   "cell_type": "code",
   "execution_count": 1,
   "id": "e359c7ac-c7e6-4115-8051-eefd15dd00be",
   "metadata": {},
   "outputs": [
    {
     "name": "stdout",
     "output_type": "stream",
     "text": [
      "['100MHz_Xpol_enorm.mat', '100MHz_Ypol_enorm.mat']\n",
      "processing 100MHz_Xpol_enorm.mat\n",
      "Fetching e_norm data from /data/curtin_eepnn/eepnn/results/e_norms/100MHz_Xpol_enorm.mat...\n",
      "selected 256 EEPs\n",
      "type of enorm: <class 'pandas.core.frame.DataFrame'>\n",
      "Detected 256 problematic region -3.0\n",
      "____________________________________________________________________________-\n",
      "type(pro_file[antenna]) : <class 'tuple'>\n",
      "type(pro_file[antenna]) : (0, 49, -3.0276874564229823)\n",
      "Traceback (most recent call last):\n",
      "  File \"/data/curtin_eepnn/eepnn/Problematic_Region_Detector_Files/codes/main.py\", line 92, in <module>\n",
      "    main(args.fov, args.FEKO_SOURCE_PATH, args.SAVE_PATH, args.problematic_threshold , args.ant_start , args.ant_end)\n",
      "  File \"/data/curtin_eepnn/eepnn/Problematic_Region_Detector_Files/codes/main.py\", line 52, in main\n",
      "    PRs = F.identify_phi_edges(PR_container[c])\n",
      "          ^^^^^^^^^^^^^^^^^^^^^^^^^^^^^^^^^^^^^\n",
      "  File \"/data/curtin_eepnn/eepnn/Problematic_Region_Detector_Files/codes/functions.py\", line 222, in identify_phi_edges\n",
      "    antenna_problematic_list = pro_file[antenna].copy()\n",
      "                               ^^^^^^^^^^^^^^^^^^^^^^\n",
      "AttributeError: 'tuple' object has no attribute 'copy'\n"
     ]
    }
   ],
   "source": [
    "! python3 main.py --fov 30 --FEKO_SOURCE_PATH '/data/curtin_eepnn/P_vogel_FEKO/rawdata/for git testing' \\\n",
    "--SAVE_PATH '/data/curtin_eepnn/eepnn/results' \\\n",
    "--problematic_threshold -3 \\\n",
    "--ant_start 1 \\\n",
    "--ant_end 256"
   ]
  },
  {
   "cell_type": "code",
   "execution_count": null,
   "id": "54d6a92e-b304-42bf-8435-821d132f7b94",
   "metadata": {},
   "outputs": [],
   "source": []
  }
 ],
 "metadata": {
  "kernelspec": {
   "display_name": "Python 3 (conda)",
   "language": "python",
   "name": "python3"
  },
  "language_info": {
   "codemirror_mode": {
    "name": "ipython",
    "version": 3
   },
   "file_extension": ".py",
   "mimetype": "text/x-python",
   "name": "python",
   "nbconvert_exporter": "python",
   "pygments_lexer": "ipython3",
   "version": "3.12.5"
  }
 },
 "nbformat": 4,
 "nbformat_minor": 5
}
