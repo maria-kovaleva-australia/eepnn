{
 "cells": [
  {
   "cell_type": "code",
   "execution_count": 10,
   "id": "b082234f-0027-4449-ae9d-2a7ceed9d18f",
   "metadata": {},
   "outputs": [
    {
     "name": "stdout",
     "output_type": "stream",
     "text": [
      "/data/curtin_eepnn/eepnn/Problematic_Region_Detector_Files/codes\n"
     ]
    }
   ],
   "source": [
    "!pwd"
   ]
  },
  {
   "cell_type": "code",
   "execution_count": null,
   "id": "e359c7ac-c7e6-4115-8051-eefd15dd00be",
   "metadata": {},
   "outputs": [],
   "source": [
    "! python3 main.py --fov 30 --FEKO_SOURCE_PATH '/data/curtin_eepnn/P_vogel_FEKO/rawdata/for git testing' \\\n",
    "--SAVE_PATH '/data/curtin_eepnn/eepnn/results' \\\n",
    "--problematic_threshold -3 \\\n",
    "--ant_start 1 \\\n",
    "--ant_end 256"
   ]
  },
  {
   "cell_type": "code",
   "execution_count": 8,
   "id": "54d6a92e-b304-42bf-8435-821d132f7b94",
   "metadata": {},
   "outputs": [
    {
     "name": "stdout",
     "output_type": "stream",
     "text": [
      "os.listdir() ['FEKO_AAVS_Pogel_256_elem_50ohm_100MHz_Xpol.mat', 'FEKO_AAVS_Pogel_256_elem_50ohm_100MHz_Ypol.mat', 'results']\n",
      "Processing FEKO_AAVS_Pogel_256_elem_50ohm_100MHz_Xpol.mat\n",
      "loading /data/curtin_eepnn/P_vogel_FEKO/rawdata/for git testing/FEKO_AAVS_Pogel_256_elem_50ohm_100MHz_Xpol.mat...\n",
      "saved e_norm to /data/curtin_eepnn/eepnn/result/e_norms/100MHz_Xpol_enorm.mat\n",
      "Processing FEKO_AAVS_Pogel_256_elem_50ohm_100MHz_Ypol.mat\n",
      "loading /data/curtin_eepnn/P_vogel_FEKO/rawdata/for git testing/FEKO_AAVS_Pogel_256_elem_50ohm_100MHz_Ypol.mat...\n",
      "saved e_norm to /data/curtin_eepnn/eepnn/result/e_norms/100MHz_Ypol_enorm.mat\n",
      "['.ipynb_checkpoints', '100MHz_Xpol_enorm.mat', '100MHz_Ypol_enorm.mat']\n",
      "processing 100MHz_Xpol_enorm.mat\n",
      "Fetching e_norm data from /data/curtin_eepnn/eepnn/result/e_norms/100MHz_Xpol_enorm.mat...\n",
      "selected 10 EEPs\n",
      "processing 100MHz_Ypol_enorm.mat\n",
      "Fetching e_norm data from /data/curtin_eepnn/eepnn/result/e_norms/100MHz_Ypol_enorm.mat...\n",
      "selected 10 EEPs\n",
      "saved result to /data/curtin_eepnn/eepnn/result folder\n",
      "Total running time: 0.3652974526087443 minutes\n"
     ]
    }
   ],
   "source": [
    "! python3 main.py --fov 30 --FEKO_SOURCE_PATH '/data/curtin_eepnn/P_vogel_FEKO/rawdata/for git testing' \\\n",
    "--SAVE_PATH '/data/curtin_eepnn/eepnn' \\\n",
    "--problematic_threshold -3 \\\n",
    "--ant_start 1 \\\n",
    "--ant_end 10"
   ]
  },
  {
   "cell_type": "code",
   "execution_count": null,
   "id": "4c61f057-79c3-4060-85bf-12796435729e",
   "metadata": {},
   "outputs": [],
   "source": [
    "import functions as F\n",
    "from importlib import reload\n",
    "reload(F)\n",
    "\n",
    "F.plot_2d_contour('100MHz_Xpol_enorm.mat', 90, output_path=None, enorm_path= '/data/curtin_eepnn/eepnn/results/e_norms')"
   ]
  },
  {
   "cell_type": "code",
   "execution_count": 8,
   "id": "66cc0a65-bc42-4375-83f9-1bba8ed60437",
   "metadata": {},
   "outputs": [
    {
     "name": "stdout",
     "output_type": "stream",
     "text": [
      "Python 3.12.5\n",
      "# packages in environment at /data/curtin_eepnn/curtin_chuyanc/env/conda/eepnn:\n",
      "#\n",
      "# Name                    Version                   Build  Channel\n"
     ]
    }
   ],
   "source": [
    "! python3 --version\n",
    "! conda list cudatoolkit"
   ]
  },
  {
   "cell_type": "code",
   "execution_count": null,
   "id": "33656e8f-a34d-43fe-8aea-471df6eda440",
   "metadata": {},
   "outputs": [],
   "source": []
  }
 ],
 "metadata": {
  "kernelspec": {
   "display_name": "Python 3 (conda)",
   "language": "python",
   "name": "python3"
  },
  "language_info": {
   "codemirror_mode": {
    "name": "ipython",
    "version": 3
   },
   "file_extension": ".py",
   "mimetype": "text/x-python",
   "name": "python",
   "nbconvert_exporter": "python",
   "pygments_lexer": "ipython3",
   "version": "3.12.5"
  }
 },
 "nbformat": 4,
 "nbformat_minor": 5
}
